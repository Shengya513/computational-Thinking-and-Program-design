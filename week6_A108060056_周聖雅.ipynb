{
  "nbformat": 4,
  "nbformat_minor": 0,
  "metadata": {
    "colab": {
      "name": "week6-A108060056-周聖雅.ipynb",
      "provenance": []
    },
    "kernelspec": {
      "name": "python3",
      "display_name": "Python 3"
    }
  },
  "cells": [
    {
      "cell_type": "code",
      "metadata": {
        "id": "kwQzohxjHehh",
        "colab_type": "code",
        "colab": {
          "base_uri": "https://localhost:8080/",
          "height": 34
        },
        "outputId": "5d3604c9-86fb-4c1d-bb71-bd29087915d4"
      },
      "source": [
        "print(\"我的名字是周聖雅\")"
      ],
      "execution_count": 20,
      "outputs": [
        {
          "output_type": "stream",
          "text": [
            "我的名字是周聖雅\n"
          ],
          "name": "stdout"
        }
      ]
    },
    {
      "cell_type": "code",
      "metadata": {
        "id": "u06e1T9AHxcS",
        "colab_type": "code",
        "colab": {
          "base_uri": "https://localhost:8080/",
          "height": 34
        },
        "outputId": "02346f53-41c6-499a-c1f4-f0a0abb84f9c"
      },
      "source": [
        "name=\"周聖雅\"\n",
        "print(\"我的名字是\",name,\"小姐\")"
      ],
      "execution_count": 21,
      "outputs": [
        {
          "output_type": "stream",
          "text": [
            "我的名字是 周聖雅 小姐\n"
          ],
          "name": "stdout"
        }
      ]
    },
    {
      "cell_type": "code",
      "metadata": {
        "id": "I0lLmeyxLAU1",
        "colab_type": "code",
        "colab": {
          "base_uri": "https://localhost:8080/",
          "height": 50
        },
        "outputId": "08cc9d8c-9f44-4f05-ec9c-b3b63a73b3d5"
      },
      "source": [
        "name=input(\"請輸入你的姓名\")\n",
        "print(\"姓名為\",name)"
      ],
      "execution_count": 22,
      "outputs": [
        {
          "output_type": "stream",
          "text": [
            "請輸入你的姓名周聖雅\n",
            "姓名為 周聖雅\n"
          ],
          "name": "stdout"
        }
      ]
    },
    {
      "cell_type": "code",
      "metadata": {
        "id": "Xq7wDG19Mr3d",
        "colab_type": "code",
        "colab": {
          "base_uri": "https://localhost:8080/",
          "height": 34
        },
        "outputId": "a908d02f-55a4-46ab-a56c-985b8ab8369e"
      },
      "source": [
        "print(\"我的年紀是18歲\")"
      ],
      "execution_count": 23,
      "outputs": [
        {
          "output_type": "stream",
          "text": [
            "我的年紀是18歲\n"
          ],
          "name": "stdout"
        }
      ]
    },
    {
      "cell_type": "code",
      "metadata": {
        "id": "lSVVhVawOLai",
        "colab_type": "code",
        "colab": {
          "base_uri": "https://localhost:8080/",
          "height": 34
        },
        "outputId": "c1b7c6a1-4660-42a4-c730-62b6cb987201"
      },
      "source": [
        "year=18\n",
        "print(\"我的年紀是\",year,\"歲\")"
      ],
      "execution_count": 26,
      "outputs": [
        {
          "output_type": "stream",
          "text": [
            "我的年紀是 18 歲\n"
          ],
          "name": "stdout"
        }
      ]
    },
    {
      "cell_type": "code",
      "metadata": {
        "id": "2ezZ3Gm2Opsa",
        "colab_type": "code",
        "colab": {
          "base_uri": "https://localhost:8080/",
          "height": 50
        },
        "outputId": "ddec957e-b9fb-4542-8481-9d0919f00d07"
      },
      "source": [
        "name=input(\"請輸入你的年紀\")\n",
        "print(\"年紀是\",year)"
      ],
      "execution_count": 28,
      "outputs": [
        {
          "output_type": "stream",
          "text": [
            "請輸入你的年紀18\n",
            "年紀是 18\n"
          ],
          "name": "stdout"
        }
      ]
    },
    {
      "cell_type": "code",
      "metadata": {
        "id": "WfTbyYIJRXUA",
        "colab_type": "code",
        "colab": {
          "base_uri": "https://localhost:8080/",
          "height": 34
        },
        "outputId": "385fa29b-39d5-49ef-f960-d9db0c42c1d9"
      },
      "source": [
        "print(\"我的體重是45公斤\")"
      ],
      "execution_count": 29,
      "outputs": [
        {
          "output_type": "stream",
          "text": [
            "我的體重是45公斤\n"
          ],
          "name": "stdout"
        }
      ]
    },
    {
      "cell_type": "code",
      "metadata": {
        "id": "6M0reBSVRoC3",
        "colab_type": "code",
        "colab": {
          "base_uri": "https://localhost:8080/",
          "height": 34
        },
        "outputId": "12157862-ef28-4cca-be70-890d1a150f6d"
      },
      "source": [
        "weight=45\n",
        "print(\"我的體重是\",weight,\"公斤\")"
      ],
      "execution_count": 31,
      "outputs": [
        {
          "output_type": "stream",
          "text": [
            "我的體重是 45 公斤\n"
          ],
          "name": "stdout"
        }
      ]
    },
    {
      "cell_type": "code",
      "metadata": {
        "id": "dq--DXbjSMMB",
        "colab_type": "code",
        "colab": {
          "base_uri": "https://localhost:8080/",
          "height": 50
        },
        "outputId": "c0f10709-f28f-4d9f-aadd-3715bd831028"
      },
      "source": [
        "name=input(\"請輸入你的體重\")\n",
        "print(\"體重為\",weight)"
      ],
      "execution_count": 33,
      "outputs": [
        {
          "output_type": "stream",
          "text": [
            "請輸入你的體重45\n",
            "體重為 45\n"
          ],
          "name": "stdout"
        }
      ]
    }
  ]
}