{
  "nbformat": 4,
  "nbformat_minor": 0,
  "metadata": {
    "colab": {
      "name": "week7口傳一乙 周聖雅 A10806056.ipynb",
      "provenance": []
    },
    "kernelspec": {
      "name": "python3",
      "display_name": "Python 3"
    }
  },
  "cells": [
    {
      "cell_type": "code",
      "metadata": {
        "id": "mFRkJP9a76gW",
        "colab_type": "code",
        "colab": {
          "base_uri": "https://localhost:8080/",
          "height": 151
        },
        "outputId": "4c7f2a1a-d5a1-4329-89ee-d0e99f6ce084"
      },
      "source": [
        "Tv_show=\"梨泰院class\"#電視名稱\n",
        "Language=\"韓文\"#語言\n",
        "Release_year=\"2020\"#上映時間\n",
        "Ratings=\"11.832%\"#收視率\n",
        "Episode=\"16集\"#集數\n",
        "Main_actor=\"朴敘俊\"#男主角\n",
        "Main_actress=\"金多美\"#女主角\n",
        "Director=\"金成允\"#導演\n",
        "print(Tv_show)\n",
        "print(Language)\n",
        "print(Release_year)\n",
        "print(Ratings)\n",
        "print(Episode)\n",
        "print(Main_actor)\n",
        "print(Main_actress)\n",
        "print(Director)"
      ],
      "execution_count": 1,
      "outputs": [
        {
          "output_type": "stream",
          "text": [
            "梨泰院class\n",
            "韓文\n",
            "2020\n",
            "11.832%\n",
            "16集\n",
            "朴敘俊\n",
            "金多美\n",
            "金成允\n"
          ],
          "name": "stdout"
        }
      ]
    }
  ]
}